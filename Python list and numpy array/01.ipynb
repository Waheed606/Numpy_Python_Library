{
 "cells": [
  {
   "cell_type": "code",
   "execution_count": 3,
   "id": "c4a05ae6",
   "metadata": {},
   "outputs": [],
   "source": [
    "import numpy as np\n",
    "import time"
   ]
  },
  {
   "cell_type": "markdown",
   "id": "0e8a6afc",
   "metadata": {},
   "source": [
    "## Python Lists in term of  speed "
   ]
  },
  {
   "cell_type": "code",
   "execution_count": 5,
   "id": "87a2c241",
   "metadata": {},
   "outputs": [
    {
     "name": "stdout",
     "output_type": "stream",
     "text": [
      "3.598794937133789\n"
     ]
    }
   ],
   "source": [
    "a1=[i for i in range(10000000)]\n",
    "a2=[i for i in range(10000000,20000000)]\n",
    "\n",
    "start =time.time()\n",
    "c=[]\n",
    "\n",
    "for i in range(len(a1)):\n",
    "    c.append(a1[i]+a2[i])\n",
    "\n",
    "print(time.time()-start)"
   ]
  },
  {
   "cell_type": "markdown",
   "id": "32b17273",
   "metadata": {},
   "source": [
    "## Numpy array in term of speed"
   ]
  },
  {
   "cell_type": "code",
   "execution_count": 7,
   "id": "b32e16d8",
   "metadata": {},
   "outputs": [
    {
     "name": "stdout",
     "output_type": "stream",
     "text": [
      "0.05629777908325195\n"
     ]
    }
   ],
   "source": [
    "a1=np.arange(10000000)\n",
    "a2=np.arange(10000000,20000000)\n",
    "\n",
    "start=time.time()\n",
    "a3=a1+a2\n",
    "\n",
    "print(time.time()-start)"
   ]
  },
  {
   "cell_type": "markdown",
   "id": "05c5690c",
   "metadata": {},
   "source": [
    "## Python list in term of memory"
   ]
  },
  {
   "cell_type": "code",
   "execution_count": 2,
   "id": "4abadaef",
   "metadata": {},
   "outputs": [
    {
     "data": {
      "text/plain": [
       "89095160"
      ]
     },
     "execution_count": 2,
     "metadata": {},
     "output_type": "execute_result"
    }
   ],
   "source": [
    "import sys\n",
    "\n",
    "a1=[i for i in range(10000000) ]\n",
    "\n",
    "sys.getsizeof(a1)"
   ]
  },
  {
   "cell_type": "markdown",
   "id": "5e771bb1",
   "metadata": {},
   "source": [
    "## Numpy array in term of memory"
   ]
  },
  {
   "cell_type": "code",
   "execution_count": 7,
   "id": "2a74a174",
   "metadata": {},
   "outputs": [
    {
     "data": {
      "text/plain": [
       "10000112"
      ]
     },
     "execution_count": 7,
     "metadata": {},
     "output_type": "execute_result"
    }
   ],
   "source": [
    "a2=np.arange(10000000,dtype=np.int8)\n",
    "\n",
    "sys.getsizeof(a2)"
   ]
  }
 ],
 "metadata": {
  "kernelspec": {
   "display_name": "venv",
   "language": "python",
   "name": "python3"
  },
  "language_info": {
   "codemirror_mode": {
    "name": "ipython",
    "version": 3
   },
   "file_extension": ".py",
   "mimetype": "text/x-python",
   "name": "python",
   "nbconvert_exporter": "python",
   "pygments_lexer": "ipython3",
   "version": "3.13.3"
  }
 },
 "nbformat": 4,
 "nbformat_minor": 5
}
