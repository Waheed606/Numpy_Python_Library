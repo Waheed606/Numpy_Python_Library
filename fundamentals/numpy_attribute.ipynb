{
 "cells": [
  {
   "cell_type": "markdown",
   "id": "2b1a7783",
   "metadata": {},
   "source": [
    "#### Numpy Attribute"
   ]
  },
  {
   "cell_type": "code",
   "execution_count": 2,
   "id": "dfa80b9b",
   "metadata": {},
   "outputs": [],
   "source": [
    "import numpy as np"
   ]
  },
  {
   "cell_type": "code",
   "execution_count": 3,
   "id": "f6646200",
   "metadata": {},
   "outputs": [
    {
     "name": "stdout",
     "output_type": "stream",
     "text": [
      "[1 2 3 5]\n"
     ]
    }
   ],
   "source": [
    "vector=np.array([1,2,3,5])\n",
    "print(vector)"
   ]
  },
  {
   "cell_type": "code",
   "execution_count": 9,
   "id": "5164cdac",
   "metadata": {},
   "outputs": [
    {
     "name": "stdout",
     "output_type": "stream",
     "text": [
      "[[1.3 3.4 4.5]\n",
      " [1.3 2.4 7.5]]\n"
     ]
    }
   ],
   "source": [
    "matrix=np.array([[1.3,3.4,4.5],[1.3,2.4,7.5]])\n",
    "print(matrix)"
   ]
  },
  {
   "cell_type": "code",
   "execution_count": 5,
   "id": "975658f0",
   "metadata": {},
   "outputs": [
    {
     "name": "stdout",
     "output_type": "stream",
     "text": [
      "[[[ 1  3  4]\n",
      "  [ 1 24  7]]\n",
      "\n",
      " [[21 42 53]\n",
      "  [21 43 44]]]\n"
     ]
    }
   ],
   "source": [
    "tensor=np.array([[[1,3,4],[1,24,7]],[[21,42,53],[21,43,44]]])\n",
    "print(tensor)"
   ]
  },
  {
   "cell_type": "code",
   "execution_count": 6,
   "id": "67f18be1",
   "metadata": {},
   "outputs": [
    {
     "name": "stdout",
     "output_type": "stream",
     "text": [
      "1\n",
      "2\n",
      "3\n"
     ]
    }
   ],
   "source": [
    "print(vector.ndim)\n",
    "print(matrix.ndim)\n",
    "print(tensor.ndim)"
   ]
  },
  {
   "cell_type": "code",
   "execution_count": 7,
   "id": "74140eb5",
   "metadata": {},
   "outputs": [
    {
     "name": "stdout",
     "output_type": "stream",
     "text": [
      "(4,)\n",
      "(2, 3)\n",
      "(2, 2, 3)\n"
     ]
    }
   ],
   "source": [
    "print(vector.shape)\n",
    "print(matrix.shape)\n",
    "print(tensor.shape)"
   ]
  },
  {
   "cell_type": "code",
   "execution_count": 8,
   "id": "ad75487e",
   "metadata": {},
   "outputs": [
    {
     "name": "stdout",
     "output_type": "stream",
     "text": [
      "4\n",
      "6\n",
      "12\n"
     ]
    }
   ],
   "source": [
    "print(vector.size)\n",
    "print(matrix.size)\n",
    "print(tensor.size)"
   ]
  },
  {
   "cell_type": "code",
   "execution_count": 10,
   "id": "5568c9d0",
   "metadata": {},
   "outputs": [
    {
     "name": "stdout",
     "output_type": "stream",
     "text": [
      "8\n",
      "8\n",
      "8\n"
     ]
    }
   ],
   "source": [
    "print(vector.itemsize)\n",
    "print(matrix.itemsize)\n",
    "print(tensor.itemsize)"
   ]
  },
  {
   "cell_type": "code",
   "execution_count": 11,
   "id": "0d0c213f",
   "metadata": {},
   "outputs": [
    {
     "name": "stdout",
     "output_type": "stream",
     "text": [
      "int64\n",
      "float64\n",
      "int64\n"
     ]
    }
   ],
   "source": [
    "print(vector.dtype)\n",
    "print(matrix.dtype)\n",
    "print(tensor.dtype)"
   ]
  }
 ],
 "metadata": {
  "kernelspec": {
   "display_name": "venv",
   "language": "python",
   "name": "python3"
  },
  "language_info": {
   "codemirror_mode": {
    "name": "ipython",
    "version": 3
   },
   "file_extension": ".py",
   "mimetype": "text/x-python",
   "name": "python",
   "nbconvert_exporter": "python",
   "pygments_lexer": "ipython3",
   "version": "3.13.3"
  }
 },
 "nbformat": 4,
 "nbformat_minor": 5
}
