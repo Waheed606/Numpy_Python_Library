{
 "cells": [
  {
   "cell_type": "markdown",
   "id": "1b8d0508",
   "metadata": {},
   "source": [
    "### Changing the data type"
   ]
  },
  {
   "cell_type": "code",
   "execution_count": 1,
   "id": "04003962",
   "metadata": {},
   "outputs": [],
   "source": [
    "import numpy as np"
   ]
  },
  {
   "cell_type": "code",
   "execution_count": 2,
   "id": "8861ad6f",
   "metadata": {},
   "outputs": [
    {
     "name": "stdout",
     "output_type": "stream",
     "text": [
      "[[[ 1  3  4]\n",
      "  [ 1 24  7]]\n",
      "\n",
      " [[21 42 53]\n",
      "  [21 43 44]]]\n"
     ]
    }
   ],
   "source": [
    "tensor=np.array([[[1,3,4],[1,24,7]],[[21,42,53],[21,43,44]]])\n",
    "print(tensor)"
   ]
  },
  {
   "cell_type": "code",
   "execution_count": 4,
   "id": "52740006",
   "metadata": {},
   "outputs": [
    {
     "data": {
      "text/plain": [
       "dtype('int64')"
      ]
     },
     "execution_count": 4,
     "metadata": {},
     "output_type": "execute_result"
    }
   ],
   "source": [
    "tensor.dtype"
   ]
  },
  {
   "cell_type": "code",
   "execution_count": 6,
   "id": "bb5a9754",
   "metadata": {},
   "outputs": [
    {
     "data": {
      "text/plain": [
       "array([[[ 1,  3,  4],\n",
       "        [ 1, 24,  7]],\n",
       "\n",
       "       [[21, 42, 53],\n",
       "        [21, 43, 44]]], dtype=int16)"
      ]
     },
     "execution_count": 6,
     "metadata": {},
     "output_type": "execute_result"
    }
   ],
   "source": [
    "tensor.astype(np.int16)"
   ]
  }
 ],
 "metadata": {
  "kernelspec": {
   "display_name": "venv",
   "language": "python",
   "name": "python3"
  },
  "language_info": {
   "codemirror_mode": {
    "name": "ipython",
    "version": 3
   },
   "file_extension": ".py",
   "mimetype": "text/x-python",
   "name": "python",
   "nbconvert_exporter": "python",
   "pygments_lexer": "ipython3",
   "version": "3.13.3"
  }
 },
 "nbformat": 4,
 "nbformat_minor": 5
}
