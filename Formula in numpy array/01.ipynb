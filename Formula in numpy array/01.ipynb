{
 "cells": [
  {
   "cell_type": "code",
   "execution_count": 1,
   "id": "9c30d6a0",
   "metadata": {},
   "outputs": [],
   "source": [
    "import numpy as np"
   ]
  },
  {
   "cell_type": "code",
   "execution_count": 3,
   "id": "cb3155c9",
   "metadata": {},
   "outputs": [
    {
     "name": "stdout",
     "output_type": "stream",
     "text": [
      "[[0 1 2 3 4]\n",
      " [5 6 7 8 9]]\n"
     ]
    }
   ],
   "source": [
    "a1=np.arange(10).reshape(2,5)\n",
    "print(a1)"
   ]
  },
  {
   "cell_type": "markdown",
   "id": "10647adb",
   "metadata": {},
   "source": [
    "### Trigonometric function"
   ]
  },
  {
   "cell_type": "code",
   "execution_count": 5,
   "id": "d98eda9b",
   "metadata": {},
   "outputs": [
    {
     "data": {
      "text/plain": [
       "array([[ 0.        ,  0.84147098,  0.90929743,  0.14112001, -0.7568025 ],\n",
       "       [-0.95892427, -0.2794155 ,  0.6569866 ,  0.98935825,  0.41211849]])"
      ]
     },
     "execution_count": 5,
     "metadata": {},
     "output_type": "execute_result"
    }
   ],
   "source": [
    "np.sin(a1)"
   ]
  },
  {
   "cell_type": "code",
   "execution_count": 6,
   "id": "246f44da",
   "metadata": {},
   "outputs": [
    {
     "data": {
      "text/plain": [
       "array([[ 1.        ,  0.54030231, -0.41614684, -0.9899925 , -0.65364362],\n",
       "       [ 0.28366219,  0.96017029,  0.75390225, -0.14550003, -0.91113026]])"
      ]
     },
     "execution_count": 6,
     "metadata": {},
     "output_type": "execute_result"
    }
   ],
   "source": [
    "np.cos(a1)"
   ]
  },
  {
   "cell_type": "markdown",
   "id": "758c7b08",
   "metadata": {},
   "source": [
    "### custom formula in numpy array "
   ]
  },
  {
   "cell_type": "markdown",
   "id": "7d72b96b",
   "metadata": {},
   "source": [
    "### sigmoid function\n",
    "### s(x)=1/(1+e^-x)"
   ]
  },
  {
   "cell_type": "code",
   "execution_count": 7,
   "id": "486164e3",
   "metadata": {},
   "outputs": [
    {
     "name": "stdout",
     "output_type": "stream",
     "text": [
      "[0.5        0.73105858 0.88079708 0.95257413 0.98201379 0.99330715\n",
      " 0.99752738 0.99908895 0.99966465 0.99987661]\n"
     ]
    }
   ],
   "source": [
    "def sigmoid(array):\n",
    "    return 1/(1+np.exp(-(array)))\n",
    "\n",
    "a1=np.arange(10)\n",
    "print(sigmoid(a1))\n"
   ]
  },
  {
   "cell_type": "markdown",
   "id": "ddee88fa",
   "metadata": {},
   "source": [
    "### loss function\n",
    "### mean square error\n",
    "### "
   ]
  },
  {
   "cell_type": "code",
   "execution_count": 13,
   "id": "324f3818",
   "metadata": {},
   "outputs": [
    {
     "name": "stdout",
     "output_type": "stream",
     "text": [
      "[20 19 39 17 10 29 21 31 33 20  9 35 12  8 37 23  1 25 40 14 23 19 41 14\n",
      " 34]\n",
      "[47 10 49  1 25  4  4 44 29 45 10 48 23 34 45 23  6 40 13 39 25 28 34 37\n",
      " 13]\n"
     ]
    }
   ],
   "source": [
    "actual=np.random.randint(1,50,25)\n",
    "predicted=np.random.randint(1,50,25)\n",
    "\n",
    "print(actual)\n",
    "print(predicted)"
   ]
  },
  {
   "cell_type": "code",
   "execution_count": 14,
   "id": "32215984",
   "metadata": {},
   "outputs": [
    {
     "data": {
      "text/plain": [
       "np.float64(16.6464)"
      ]
     },
     "execution_count": 14,
     "metadata": {},
     "output_type": "execute_result"
    }
   ],
   "source": [
    "def ems(actual,predicted):\n",
    "    return( np.mean(actual-predicted)**2)\n",
    "\n",
    "\n",
    "ems(actual , predicted)"
   ]
  },
  {
   "cell_type": "markdown",
   "id": "3b587c98",
   "metadata": {},
   "source": [
    "### Binary loss entropy"
   ]
  },
  {
   "cell_type": "code",
   "execution_count": null,
   "id": "ff3198a6",
   "metadata": {},
   "outputs": [],
   "source": []
  }
 ],
 "metadata": {
  "kernelspec": {
   "display_name": "venv",
   "language": "python",
   "name": "python3"
  },
  "language_info": {
   "codemirror_mode": {
    "name": "ipython",
    "version": 3
   },
   "file_extension": ".py",
   "mimetype": "text/x-python",
   "name": "python",
   "nbconvert_exporter": "python",
   "pygments_lexer": "ipython3",
   "version": "3.13.3"
  }
 },
 "nbformat": 4,
 "nbformat_minor": 5
}
