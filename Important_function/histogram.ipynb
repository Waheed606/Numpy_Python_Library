{
 "cells": [
  {
   "cell_type": "code",
   "execution_count": 2,
   "id": "c15c33a7",
   "metadata": {},
   "outputs": [],
   "source": [
    "import numpy as np"
   ]
  },
  {
   "cell_type": "code",
   "execution_count": 6,
   "id": "4262549c",
   "metadata": {},
   "outputs": [],
   "source": [
    "a = np.random.randint(1,100,57)\n",
    "b = np.arange(1,13).reshape(3,4)"
   ]
  },
  {
   "cell_type": "code",
   "execution_count": 9,
   "id": "2e7745f8",
   "metadata": {},
   "outputs": [
    {
     "data": {
      "text/plain": [
       "array([91, 41, 54, 37, 37, 73, 64, 46, 56, 68, 31, 18, 13, 46, 55, 41,  2,\n",
       "       39, 56, 17, 68, 73,  4, 34, 51, 74, 21, 58, 71, 15, 72, 96, 67, 52,\n",
       "       65, 81, 70, 14, 15, 73, 61, 96, 90, 25, 20, 38, 74, 95, 74, 89,  1,\n",
       "        9, 72, 63, 18, 11, 90], dtype=int32)"
      ]
     },
     "execution_count": 9,
     "metadata": {},
     "output_type": "execute_result"
    }
   ],
   "source": [
    "a"
   ]
  },
  {
   "cell_type": "code",
   "execution_count": 8,
   "id": "07c351a2",
   "metadata": {},
   "outputs": [
    {
     "data": {
      "text/plain": [
       "(array([ 4,  8,  3,  6,  4,  7,  7, 10,  2,  6]),\n",
       " array([  0,  10,  20,  30,  40,  50,  60,  70,  80,  90, 100]))"
      ]
     },
     "execution_count": 8,
     "metadata": {},
     "output_type": "execute_result"
    }
   ],
   "source": [
    "np.histogram(a,bins=[0,10,20,30,40,50,60,70,80,90,100])"
   ]
  },
  {
   "cell_type": "markdown",
   "id": "b377b79c",
   "metadata": {},
   "source": [
    "## co-relation co-efficient"
   ]
  },
  {
   "cell_type": "code",
   "execution_count": 11,
   "id": "c4ef88fd",
   "metadata": {},
   "outputs": [
    {
     "data": {
      "text/plain": [
       "array([[1., 1., 1., 1., 1., 1.],\n",
       "       [1., 1., 1., 1., 1., 1.],\n",
       "       [1., 1., 1., 1., 1., 1.],\n",
       "       [1., 1., 1., 1., 1., 1.],\n",
       "       [1., 1., 1., 1., 1., 1.],\n",
       "       [1., 1., 1., 1., 1., 1.]])"
      ]
     },
     "execution_count": 11,
     "metadata": {},
     "output_type": "execute_result"
    }
   ],
   "source": [
    "a1=np.arange(12).reshape(3,4)\n",
    "a2=np.arange(12,24).reshape(3,4)\n",
    "\n",
    "np.corrcoef(a1,a2)"
   ]
  }
 ],
 "metadata": {
  "kernelspec": {
   "display_name": "venv",
   "language": "python",
   "name": "python3"
  },
  "language_info": {
   "codemirror_mode": {
    "name": "ipython",
    "version": 3
   },
   "file_extension": ".py",
   "mimetype": "text/x-python",
   "name": "python",
   "nbconvert_exporter": "python",
   "pygments_lexer": "ipython3",
   "version": "3.13.3"
  }
 },
 "nbformat": 4,
 "nbformat_minor": 5
}
