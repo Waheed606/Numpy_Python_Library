{
 "cells": [
  {
   "cell_type": "code",
   "execution_count": 1,
   "id": "8d04d452",
   "metadata": {},
   "outputs": [],
   "source": [
    "import numpy as np"
   ]
  },
  {
   "cell_type": "code",
   "execution_count": 2,
   "id": "21ffacf1",
   "metadata": {},
   "outputs": [],
   "source": [
    "a=np.arange(12)"
   ]
  },
  {
   "cell_type": "code",
   "execution_count": 3,
   "id": "40bdaa5a",
   "metadata": {},
   "outputs": [],
   "source": [
    "np.put(a,[0,5],[430,530])"
   ]
  },
  {
   "cell_type": "code",
   "execution_count": 4,
   "id": "e9811c78",
   "metadata": {},
   "outputs": [
    {
     "data": {
      "text/plain": [
       "array([430,   1,   2,   3,   4, 530,   6,   7,   8,   9,  10,  11])"
      ]
     },
     "execution_count": 4,
     "metadata": {},
     "output_type": "execute_result"
    }
   ],
   "source": [
    "a"
   ]
  },
  {
   "cell_type": "markdown",
   "id": "40a93b2f",
   "metadata": {},
   "source": [
    "delete()"
   ]
  },
  {
   "cell_type": "code",
   "execution_count": null,
   "id": "ae96a77b",
   "metadata": {},
   "outputs": [
    {
     "data": {
      "text/plain": [
       "array([ 1,  2,  3,  4,  6,  7,  8,  9, 10, 11])"
      ]
     },
     "execution_count": 6,
     "metadata": {},
     "output_type": "execute_result"
    }
   ],
   "source": [
    "np.delete(a,[0])"
   ]
  },
  {
   "cell_type": "code",
   "execution_count": null,
   "id": "1ce1efda",
   "metadata": {},
   "outputs": [],
   "source": []
  }
 ],
 "metadata": {
  "kernelspec": {
   "display_name": "venv",
   "language": "python",
   "name": "python3"
  },
  "language_info": {
   "codemirror_mode": {
    "name": "ipython",
    "version": 3
   },
   "file_extension": ".py",
   "mimetype": "text/x-python",
   "name": "python",
   "nbconvert_exporter": "python",
   "pygments_lexer": "ipython3",
   "version": "3.13.3"
  }
 },
 "nbformat": 4,
 "nbformat_minor": 5
}
