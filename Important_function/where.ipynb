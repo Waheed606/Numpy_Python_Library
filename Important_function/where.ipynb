{
 "cells": [
  {
   "cell_type": "markdown",
   "id": "2828a937",
   "metadata": {},
   "source": [
    "## where()"
   ]
  },
  {
   "cell_type": "code",
   "execution_count": 1,
   "id": "c30865e0",
   "metadata": {},
   "outputs": [],
   "source": [
    "import numpy as np"
   ]
  },
  {
   "cell_type": "code",
   "execution_count": 20,
   "id": "23155ada",
   "metadata": {},
   "outputs": [],
   "source": [
    "b=np.arange(12).reshape(3,4)"
   ]
  },
  {
   "cell_type": "code",
   "execution_count": 10,
   "id": "f72f1aa3",
   "metadata": {},
   "outputs": [],
   "source": [
    "a=np.random.randint(1,50,50)"
   ]
  },
  {
   "cell_type": "code",
   "execution_count": 11,
   "id": "bc8bfec5",
   "metadata": {},
   "outputs": [
    {
     "data": {
      "text/plain": [
       "(array([ 0,  1, 10, 11, 13, 16, 17, 18, 21, 22, 23, 28, 29, 32, 34, 35, 36,\n",
       "        39, 41, 43, 44, 45, 46, 47]),)"
      ]
     },
     "execution_count": 11,
     "metadata": {},
     "output_type": "execute_result"
    }
   ],
   "source": [
    "np.where(a>25)"
   ]
  },
  {
   "cell_type": "code",
   "execution_count": 12,
   "id": "a084b876",
   "metadata": {},
   "outputs": [
    {
     "data": {
      "text/plain": [
       "array(['odd', 'odd', 'even', 'even', 'even', 'odd', 'even', 'odd', 'even',\n",
       "       'even', 'odd', 'odd', 'odd', 'even', 'odd', 'even', 'odd', 'odd',\n",
       "       'odd', 'odd', 'even', 'even', 'odd', 'even', 'odd', 'odd', 'even',\n",
       "       'even', 'even', 'even', 'even', 'odd', 'odd', 'even', 'odd', 'odd',\n",
       "       'odd', 'even', 'odd', 'odd', 'even', 'even', 'even', 'odd', 'even',\n",
       "       'even', 'odd', 'even', 'odd', 'even'], dtype='<U4')"
      ]
     },
     "execution_count": 12,
     "metadata": {},
     "output_type": "execute_result"
    }
   ],
   "source": [
    "np.where(a%2==0,'even','odd')"
   ]
  },
  {
   "cell_type": "markdown",
   "id": "96041b0e",
   "metadata": {},
   "source": [
    "## argmax()"
   ]
  },
  {
   "cell_type": "code",
   "execution_count": 15,
   "id": "423202ab",
   "metadata": {},
   "outputs": [
    {
     "data": {
      "text/plain": [
       "array([43, 33, 14, 12, 18,  9,  2,  3,  6, 22, 41, 29,  9, 44, 17, 24, 33,\n",
       "       49, 37, 21, 18, 44, 39, 26, 25,  1,  4,  6, 42, 34, 12, 13, 37, 20,\n",
       "       33, 33, 33, 12,  1, 35, 24, 44, 14, 35, 34, 26, 39, 36, 17,  4],\n",
       "      dtype=int32)"
      ]
     },
     "execution_count": 15,
     "metadata": {},
     "output_type": "execute_result"
    }
   ],
   "source": [
    "a"
   ]
  },
  {
   "cell_type": "code",
   "execution_count": 13,
   "id": "441c80ae",
   "metadata": {},
   "outputs": [
    {
     "data": {
      "text/plain": [
       "np.int64(17)"
      ]
     },
     "execution_count": 13,
     "metadata": {},
     "output_type": "execute_result"
    }
   ],
   "source": [
    "np.argmax(a)"
   ]
  },
  {
   "cell_type": "code",
   "execution_count": 21,
   "id": "1d866625",
   "metadata": {},
   "outputs": [
    {
     "data": {
      "text/plain": [
       "np.int32(49)"
      ]
     },
     "execution_count": 21,
     "metadata": {},
     "output_type": "execute_result"
    }
   ],
   "source": [
    "a[17]"
   ]
  },
  {
   "cell_type": "code",
   "execution_count": 22,
   "id": "678ddabb",
   "metadata": {},
   "outputs": [
    {
     "data": {
      "text/plain": [
       "array([[ 0,  1,  2,  3],\n",
       "       [ 4,  5,  6,  7],\n",
       "       [ 8,  9, 10, 11]])"
      ]
     },
     "execution_count": 22,
     "metadata": {},
     "output_type": "execute_result"
    }
   ],
   "source": [
    "b"
   ]
  },
  {
   "cell_type": "code",
   "execution_count": 23,
   "id": "24c390d3",
   "metadata": {},
   "outputs": [
    {
     "data": {
      "text/plain": [
       "np.int64(0)"
      ]
     },
     "execution_count": 23,
     "metadata": {},
     "output_type": "execute_result"
    }
   ],
   "source": [
    "np.argmin(b)"
   ]
  },
  {
   "cell_type": "markdown",
   "id": "e6c5e5f3",
   "metadata": {},
   "source": [
    "## argmin()"
   ]
  },
  {
   "cell_type": "code",
   "execution_count": 18,
   "id": "34c65363",
   "metadata": {},
   "outputs": [
    {
     "data": {
      "text/plain": [
       "array([43, 33, 14, 12, 18,  9,  2,  3,  6, 22, 41, 29,  9, 44, 17, 24, 33,\n",
       "       49, 37, 21, 18, 44, 39, 26, 25,  1,  4,  6, 42, 34, 12, 13, 37, 20,\n",
       "       33, 33, 33, 12,  1, 35, 24, 44, 14, 35, 34, 26, 39, 36, 17,  4],\n",
       "      dtype=int32)"
      ]
     },
     "execution_count": 18,
     "metadata": {},
     "output_type": "execute_result"
    }
   ],
   "source": [
    "a"
   ]
  },
  {
   "cell_type": "code",
   "execution_count": 16,
   "id": "8f4d31d0",
   "metadata": {},
   "outputs": [
    {
     "data": {
      "text/plain": [
       "np.int64(25)"
      ]
     },
     "execution_count": 16,
     "metadata": {},
     "output_type": "execute_result"
    }
   ],
   "source": [
    "np.argmin(a)"
   ]
  },
  {
   "cell_type": "code",
   "execution_count": 17,
   "id": "94667018",
   "metadata": {},
   "outputs": [
    {
     "data": {
      "text/plain": [
       "np.int32(1)"
      ]
     },
     "execution_count": 17,
     "metadata": {},
     "output_type": "execute_result"
    }
   ],
   "source": [
    "a[25]"
   ]
  }
 ],
 "metadata": {
  "kernelspec": {
   "display_name": "venv",
   "language": "python",
   "name": "python3"
  },
  "language_info": {
   "codemirror_mode": {
    "name": "ipython",
    "version": 3
   },
   "file_extension": ".py",
   "mimetype": "text/x-python",
   "name": "python",
   "nbconvert_exporter": "python",
   "pygments_lexer": "ipython3",
   "version": "3.13.3"
  }
 },
 "nbformat": 4,
 "nbformat_minor": 5
}
